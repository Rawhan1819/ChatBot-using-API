{
  "nbformat": 4,
  "nbformat_minor": 0,
  "metadata": {
    "colab": {
      "provenance": []
    },
    "kernelspec": {
      "name": "python3",
      "display_name": "Python 3"
    },
    "language_info": {
      "name": "python"
    }
  },
  "cells": [
    {
      "cell_type": "code",
      "execution_count": 1,
      "metadata": {
        "id": "ujFxppQIHjKF"
      },
      "outputs": [],
      "source": [
        "import requests\n",
        "import json\n"
      ]
    },
    {
      "cell_type": "code",
      "source": [
        "api_key=\"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\"\n",
        "\n"
      ],
      "metadata": {
        "id": "7ZJzvY96HlG3"
      },
      "execution_count": 2,
      "outputs": []
    },
    {
      "cell_type": "code",
      "source": [
        "url = \"https://openrouter.ai/api/v1/chat/completions\"\n",
        "headers = {\n",
        "    \"Authorization\": f\"Bearer {api_key}\",\n",
        "    \"Content-Type\": \"application/json\",\n",
        "    \"HTTP-Referer\": \"http://localhost\",  # Optional\n",
        "    \"X-Title\": \"MyDeepSeekChatbot\",       # Optional\n",
        "}"
      ],
      "metadata": {
        "id": "qr4alc2XHok2"
      },
      "execution_count": 3,
      "outputs": []
    },
    {
      "cell_type": "code",
      "source": [
        "def ask_question(question):\n",
        "    payload = {\n",
        "        \"model\": \"deepseek/deepseek-r1-zero:free\",\n",
        "        \"messages\": [\n",
        "            {\"role\": \"user\", \"content\": question}\n",
        "        ]\n",
        "    }\n",
        "\n",
        "    response = requests.post(url, headers=headers, data=json.dumps(payload))\n",
        "\n",
        "    if response.status_code == 200:\n",
        "        result = response.json()\n",
        "        answer = result[\"choices\"][0][\"message\"][\"content\"]\n",
        "        return answer\n",
        "    else:\n",
        "        return f\"Error {response.status_code}: {response.text}\"\n",
        "\n"
      ],
      "metadata": {
        "id": "-UK8_vqRHqEm"
      },
      "execution_count": 4,
      "outputs": []
    },
    {
      "cell_type": "code",
      "source": [
        "while True:\n",
        "  question = input(\"Ask me anything: \")\n",
        "  answer = ask_question(question)\n",
        "  print(\"\\nBot:\", answer)"
      ],
      "metadata": {
        "colab": {
          "base_uri": "https://localhost:8080/"
        },
        "id": "xFfFjv5LHsVF",
        "outputId": "5079c083-7bbf-4f16-8c39-ab7f1b72f2a1"
      },
      "execution_count": null,
      "outputs": [
        {
          "output_type": "stream",
          "name": "stdout",
          "text": [
            "Ask me anything: What is the capital of US?\n",
            "\n",
            "Bot: \\boxed{Washington, D.C.}\n"
          ]
        }
      ]
    },
    {
      "cell_type": "code",
      "source": [],
      "metadata": {
        "id": "3ibBk-wvHu41"
      },
      "execution_count": null,
      "outputs": []
    }
  ]
}